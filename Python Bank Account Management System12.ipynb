{
 "cells": [
  {
   "cell_type": "code",
   "execution_count": 2,
   "id": "6a3548bb-5ed0-4746-82b1-3a56612df82f",
   "metadata": {},
   "outputs": [
    {
     "name": "stdout",
     "output_type": "stream",
     "text": [
      "~~~~~~~~ Welcome to Aspire Bank ~~~~~~~~\n",
      "\n",
      "How can we help you today?\n",
      "\n",
      "\n",
      "1. Open an Account\n",
      "2. View Account Details\n",
      "3. Perform Transactions (Withdraws/Deposit/Transfer)\n",
      "4. View Transaction History\n",
      "5. Exit\n",
      "\n",
      "\n"
     ]
    },
    {
     "name": "stdin",
     "output_type": "stream",
     "text": [
      "Enter your choice between 1 to 5:  2\n",
      "Enter username:  TARA43\n",
      "Enter password:  5770\n",
      "Enter pancard:  TT6789U\n"
     ]
    },
    {
     "name": "stdout",
     "output_type": "stream",
     "text": [
      "This account does not exist, try again!\n",
      "\n",
      "\n",
      "1. Open an Account\n",
      "2. View Account Details\n",
      "3. Perform Transactions (Withdraws/Deposit/Transfer)\n",
      "4. View Transaction History\n",
      "5. Exit\n",
      "\n",
      "\n"
     ]
    },
    {
     "name": "stdin",
     "output_type": "stream",
     "text": [
      "Enter your choice between 1 to 5:  1\n",
      "Enter First Name:  TARA\n",
      "Enter Last Name:  SHARMA\n",
      "Enter Pan card Number:  TT6789U\n",
      "Which type of account would you like to open (Current/Savings):  Savings\n",
      "How much amount do you wish to deposit?  9000\n"
     ]
    },
    {
     "name": "stdout",
     "output_type": "stream",
     "text": [
      "Your Assigned username is TARA37\n",
      "Your Assigned password is 2362\n",
      "Account Number:  111122228417\n",
      "Account Type:  Savings\n",
      "Your Initial balance is Rs. 9000\n",
      "\n",
      "\n",
      "\n",
      "1. Open an Account\n",
      "2. View Account Details\n",
      "3. Perform Transactions (Withdraws/Deposit/Transfer)\n",
      "4. View Transaction History\n",
      "5. Exit\n",
      "\n",
      "\n"
     ]
    },
    {
     "name": "stdin",
     "output_type": "stream",
     "text": [
      "Enter your choice between 1 to 5:  2\n",
      "Enter username:  TARA37\n",
      "Enter password:  2362\n",
      "Enter pancard:  TT6789U\n"
     ]
    },
    {
     "name": "stdout",
     "output_type": "stream",
     "text": [
      "Your Account Details are: \n",
      "Account Number:  111122228417\n",
      "Account Holder Name:  TARA SHARMA\n",
      "Account Type:  Savings\n",
      "Total Balance is: Rs. 9000\n",
      "\n",
      "\n",
      "1. Open an Account\n",
      "2. View Account Details\n",
      "3. Perform Transactions (Withdraws/Deposit/Transfer)\n",
      "4. View Transaction History\n",
      "5. Exit\n",
      "\n",
      "\n"
     ]
    },
    {
     "name": "stdin",
     "output_type": "stream",
     "text": [
      "Enter your choice between 1 to 5:  3\n",
      "Enter username:  TARA37\n",
      "Enter password:  2362\n",
      "Enter pancard:  TT6789U\n"
     ]
    },
    {
     "name": "stdout",
     "output_type": "stream",
     "text": [
      "\n",
      "1. Deposit\n",
      "2. Withdraw\n",
      "3. Transfer\n"
     ]
    },
    {
     "name": "stdin",
     "output_type": "stream",
     "text": [
      "Enter transaction type:  Deposit\n",
      "Enter the amount you wish to deposit:  4000\n"
     ]
    },
    {
     "name": "stdout",
     "output_type": "stream",
     "text": [
      "Your current balance is: Rs. 13000.0\n",
      "\n",
      "\n",
      "1. Open an Account\n",
      "2. View Account Details\n",
      "3. Perform Transactions (Withdraws/Deposit/Transfer)\n",
      "4. View Transaction History\n",
      "5. Exit\n",
      "\n",
      "\n"
     ]
    },
    {
     "name": "stdin",
     "output_type": "stream",
     "text": [
      "Enter your choice between 1 to 5:  3\n",
      "Enter username:  TARA37\n",
      "Enter password:  2362\n",
      "Enter pancard:  TT6789U\n"
     ]
    },
    {
     "name": "stdout",
     "output_type": "stream",
     "text": [
      "\n",
      "1. Deposit\n",
      "2. Withdraw\n",
      "3. Transfer\n"
     ]
    },
    {
     "name": "stdin",
     "output_type": "stream",
     "text": [
      "Enter transaction type:  Withdraw\n",
      "Enter the amount you wish to withdraw:  2000\n"
     ]
    },
    {
     "name": "stdout",
     "output_type": "stream",
     "text": [
      "Remaining balance is Rs. 11000.0\n",
      "\n",
      "\n",
      "1. Open an Account\n",
      "2. View Account Details\n",
      "3. Perform Transactions (Withdraws/Deposit/Transfer)\n",
      "4. View Transaction History\n",
      "5. Exit\n",
      "\n",
      "\n"
     ]
    },
    {
     "name": "stdin",
     "output_type": "stream",
     "text": [
      "Enter your choice between 1 to 5:  1\n",
      "Enter First Name:  Remo\n",
      "Enter Last Name:  SHARMA\n",
      "Enter Pan card Number:  T6789Y\n",
      "Which type of account would you like to open (Current/Savings):  Current\n",
      "How much amount do you wish to deposit?  4000\n"
     ]
    },
    {
     "name": "stdout",
     "output_type": "stream",
     "text": [
      "Your Assigned username is Remo61\n",
      "Your Assigned password is 2942\n",
      "Account Number:  111122225988\n",
      "Account Type:  Current\n",
      "Your Initial balance is Rs. 4000\n",
      "\n",
      "\n",
      "\n",
      "1. Open an Account\n",
      "2. View Account Details\n",
      "3. Perform Transactions (Withdraws/Deposit/Transfer)\n",
      "4. View Transaction History\n",
      "5. Exit\n",
      "\n",
      "\n"
     ]
    },
    {
     "name": "stdin",
     "output_type": "stream",
     "text": [
      "Enter your choice between 1 to 5:  3\n",
      "Enter username:  Remo61\n",
      "Enter password:  2942\n",
      "Enter pancard:  T6789Y\n"
     ]
    },
    {
     "name": "stdout",
     "output_type": "stream",
     "text": [
      "\n",
      "1. Deposit\n",
      "2. Withdraw\n",
      "3. Transfer\n"
     ]
    },
    {
     "name": "stdin",
     "output_type": "stream",
     "text": [
      "Enter transaction type:  Transfer\n",
      "Enter receiver's pancard:  TT6789U\n",
      "Enter the amount you want to transfer:  5000\n"
     ]
    },
    {
     "name": "stdout",
     "output_type": "stream",
     "text": [
      "You cannot transfer more than the deposited amount.\n",
      "\n",
      "\n",
      "1. Open an Account\n",
      "2. View Account Details\n",
      "3. Perform Transactions (Withdraws/Deposit/Transfer)\n",
      "4. View Transaction History\n",
      "5. Exit\n",
      "\n",
      "\n"
     ]
    },
    {
     "name": "stdin",
     "output_type": "stream",
     "text": [
      "Enter your choice between 1 to 5:  5\n"
     ]
    },
    {
     "name": "stdout",
     "output_type": "stream",
     "text": [
      "Thank you for banking with Aspire Bank. Goodbye!\n"
     ]
    }
   ],
   "source": [
    "import datetime\n",
    "import random\n",
    "\n",
    "credentials = {}\n",
    "users_db = {}\n",
    "passbook = {}\n",
    "key = 0\n",
    "\n",
    "print(\"~\" * 8, \"Welcome to Aspire Bank\", \"~\" * 8)\n",
    "print(\"\\nHow can we help you today?\")\n",
    "\n",
    "while True:\n",
    "    print(\"\"\"\\n\n",
    "1. Open an Account\n",
    "2. View Account Details\n",
    "3. Perform Transactions (Withdraws/Deposit/Transfer)\n",
    "4. View Transaction History\n",
    "5. Exit\n",
    "\\n\"\"\")\n",
    "    \n",
    "    choice = int(input(\"Enter your choice between 1 to 5: \"))\n",
    "    \n",
    "    if choice == 1:\n",
    "        fname = input(\"Enter First Name: \")\n",
    "        lname = input(\"Enter Last Name: \")\n",
    "        pancard = input(\"Enter Pan card Number: \")\n",
    "        \n",
    "        if pancard in users_db.keys():\n",
    "            print(\"Your account already exists!\")\n",
    "            print(\"Try again\")\n",
    "            continue\n",
    "        \n",
    "        account_number = \"11112222\"  # constant code for the branch\n",
    "        for i in range(1, 5):\n",
    "            a = random.randint(0, 9)\n",
    "            account_number = account_number + str(a)\n",
    "        \n",
    "        account_type = input(\"Which type of account would you like to open (Current/Savings): \")\n",
    "        balance = int(input(\"How much amount do you wish to deposit? \"))\n",
    "        \n",
    "        username = fname\n",
    "        for i in range(2):\n",
    "            a = random.randint(0, 9)\n",
    "            username = username + str(a)\n",
    "        \n",
    "        password = \"\"\n",
    "        for i in range(4):\n",
    "            a = random.randint(0, 9)\n",
    "            password = password + str(a)\n",
    "        \n",
    "        print(\"Your Assigned username is\", username)\n",
    "        print(\"Your Assigned password is\", password)\n",
    "        print(\"Account Number: \", account_number)\n",
    "        print(\"Account Type: \", account_type)\n",
    "        print(\"Your Initial balance is Rs.\", balance)\n",
    "        print()\n",
    "        \n",
    "        credentials[username] = password\n",
    "        users_db[pancard] = [fname, lname, account_number, account_type, balance]\n",
    "\n",
    "    elif choice == 2:\n",
    "        un = input(\"Enter username: \")\n",
    "        ps = input(\"Enter password: \")\n",
    "        pc = input(\"Enter pancard: \")\n",
    "        \n",
    "        if un in credentials.keys() and ps == credentials[un] and pc in users_db.keys():\n",
    "            print(\"Your Account Details are: \")\n",
    "            print(\"Account Number: \", users_db[pc][2])\n",
    "            print(\"Account Holder Name: \", users_db[pc][0], users_db[pc][1])\n",
    "            print(\"Account Type: \", users_db[pc][3])\n",
    "            print(\"Total Balance is: Rs.\", users_db[pc][4])\n",
    "        else:\n",
    "            print(\"This account does not exist, try again!\")\n",
    "\n",
    "    elif choice == 3:\n",
    "        un = input(\"Enter username: \")\n",
    "        ps = input('Enter password: ')\n",
    "        pc = input(\"Enter pancard: \")\n",
    "        \n",
    "        if un in credentials.keys() and ps == credentials[un] and pc in users_db.keys():\n",
    "            print(\"\"\"\n",
    "1. Deposit\n",
    "2. Withdraw\n",
    "3. Transfer\"\"\")\n",
    "            t_type = input(\"Enter transaction type: \").capitalize()\n",
    "\n",
    "            if t_type == \"Deposit\":\n",
    "                t_amount = float(input(\"Enter the amount you wish to deposit: \"))\n",
    "                users_db[pc][4] += t_amount\n",
    "                timestamp = datetime.datetime.now()\n",
    "                print(\"Your current balance is: Rs.\", users_db[pc][4])\n",
    "\n",
    "            elif t_type == \"Withdraw\":\n",
    "                t_amount = float(input(\"Enter the amount you wish to withdraw: \"))\n",
    "                if t_amount > users_db[pc][4]:\n",
    "                    print(\"You cannot withdraw more than the deposited amount.\")\n",
    "                else:\n",
    "                    users_db[pc][4] -= t_amount\n",
    "                    timestamp = datetime.datetime.now()\n",
    "                    print(\"Remaining balance is Rs.\", users_db[pc][4])\n",
    "\n",
    "            elif t_type == \"Transfer\":\n",
    "                r_pancard = input(\"Enter receiver's pancard: \")\n",
    "                t_amount = float(input(\"Enter the amount you want to transfer: \"))\n",
    "                if t_amount > users_db[pc][4]:\n",
    "                    print(\"You cannot transfer more than the deposited amount.\")\n",
    "                elif r_pancard in users_db.keys():\n",
    "                    users_db[pc][4] -= t_amount\n",
    "                    users_db[r_pancard][4] += t_amount\n",
    "                    timestamp = datetime.datetime.now()\n",
    "                    print(\"Remaining balance is Rs.\", users_db[pc][4])\n",
    "                else:\n",
    "                    print(\"Receiver's account not found.\")\n",
    "            \n",
    "            # Recording transaction\n",
    "            if pc not in passbook:\n",
    "                passbook[pc] = []\n",
    "            passbook[pc].append([timestamp, t_type, t_amount, users_db[pc][4]])\n",
    "\n",
    "        else:\n",
    "            print(\"Authentication failed. Please check your details.\")\n",
    "\n",
    "    elif choice == 4:\n",
    "        un = input(\"Enter username: \")\n",
    "        ps = input(\"Enter password: \")\n",
    "        pc = input(\"Enter pancard: \")\n",
    "\n",
    "        if un in credentials.keys() and ps == credentials[un] and pc in passbook.keys():\n",
    "            print(\"\\nTimestamp  Type  Amount  Balance\")\n",
    "            for transaction in passbook[pc]:\n",
    "                timestamp, t_type, t_amount, balance = transaction\n",
    "                print(f\"{timestamp}   {t_type}   {t_amount}   {balance}\")\n",
    "        else:\n",
    "            print(\"No transaction history found or authentication failed.\")\n",
    "\n",
    "    elif choice == 5:\n",
    "        print(\"Thank you for banking with Aspire Bank. Goodbye!\")\n",
    "        break\n",
    "\n",
    "    else:\n",
    "        print(\"Invalid choice. Please try again.\")\n"
   ]
  }
 ],
 "metadata": {
  "kernelspec": {
   "display_name": "Python 3 (ipykernel)",
   "language": "python",
   "name": "python3"
  },
  "language_info": {
   "codemirror_mode": {
    "name": "ipython",
    "version": 3
   },
   "file_extension": ".py",
   "mimetype": "text/x-python",
   "name": "python",
   "nbconvert_exporter": "python",
   "pygments_lexer": "ipython3",
   "version": "3.12.3"
  }
 },
 "nbformat": 4,
 "nbformat_minor": 5
}
